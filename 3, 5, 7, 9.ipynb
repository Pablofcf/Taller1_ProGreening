{
 "cells": [
  {
   "cell_type": "markdown",
   "metadata": {},
   "source": [
    "Taller 1 - ProGreening\n",
    "\n",
    "Puntos 3, 5, 7 y 9\n",
    "\n",
    "3. Realice un programa que lea un número enteros y determine si es par o impar."
   ]
  },
  {
   "cell_type": "code",
   "execution_count": 10,
   "metadata": {},
   "outputs": [
    {
     "name": "stdout",
     "output_type": "stream",
     "text": [
      "Ambos numeros son pares\n"
     ]
    }
   ],
   "source": [
    "a = int(input(\"Digite un numero: \"))\n",
    "b = int(input(\"Digite otro numero: \"))\n",
    "\n",
    "if a%2==0 and b%2==0:\n",
    "    print(\"Ambos numeros son pares\")\n",
    "elif a%2==0 and b%2!=0:\n",
    "    print(f\"{a} es par\")\n",
    "elif a%2!=0 and b%2==0:\n",
    "    print(f\"{b} es par\")\n",
    "else:\n",
    "    print(\"Ambos numeros son impares\")"
   ]
  },
  {
   "cell_type": "markdown",
   "metadata": {},
   "source": [
    "5. Realice un programa que lea tres números reales y determine si la suma de los dos primeros es mayor, menor o igual que el tercer número."
   ]
  },
  {
   "cell_type": "code",
   "execution_count": 11,
   "metadata": {},
   "outputs": [
    {
     "name": "stdout",
     "output_type": "stream",
     "text": [
      "El resultado de 1.0 mas 9.0 es mayor que 7.0\n"
     ]
    }
   ],
   "source": [
    "a=float(input(\"Digite un primer número\\n\" ))\n",
    "b=float(input(\"Digite un segundo numero\\n\"))\n",
    "c=float(input(\"Digite un ultimo numero\\n\"))\n",
    "if a+b > c:\n",
    "    print(\"El resultado de \"+str(a)+\" mas \"+str(b)+\" es mayor que \"+str(c) )\n",
    "elif a+b < c:\n",
    "    print(\"El resultado de \"+str(a)+\" mas \"+str(b)+\" es menor que \"+str(c) )\n",
    "else:\n",
    "    print(\"El resultado de \"+str(a)+\" mas \"+str(b)+\" es menor que \"+str(c) )"
   ]
  },
  {
   "cell_type": "markdown",
   "metadata": {},
   "source": [
    "7. Escriba un programa que pida 5 números reales y calcule las siguientes operaciones:\n",
    "\n",
    "- El promedio\n",
    "- La mediana\n",
    "- El promedio multiplicativo (multilplica todos y luego calcula la raíz de la cantidad de operandos)\n",
    "- Ordenar los números de forma ascendente\n",
    "- Ordenar los números de forma descendente\n",
    "- La potencia del mayor número elevado al menor número\n",
    "- La raíz cúbica del menor número"
   ]
  },
  {
   "cell_type": "code",
   "execution_count": 15,
   "metadata": {},
   "outputs": [
    {
     "name": "stdout",
     "output_type": "stream",
     "text": [
      "El promedio de los numeros es:  422813.2\n",
      "La mediana del conjunto es  12.0\n",
      "El promedio multiplicativo es  4509994.084118456\n",
      "potencia del mayor número elevando el menor número es:  4460565120025.0\n",
      "La lista en orden ascendente es:  2.0 5.0 12.0 2042.0 2112005.0\n",
      "La lista en orden descendente es:  2112005.0 2042.0 12.0 5.0 2.0\n",
      "La raiz cubica del menor es:  1.2599210498948732\n"
     ]
    }
   ],
   "source": [
    "a=float(input(\"Piense en un numero y digitelo: \\n\"))\n",
    "b=float(input(\"Digite un numero completo y seguido del dia, mes y año de su nacimiento\\nejemplo, dia 19 mes 10 año 2005, numero resultante 19102005: \\n\"))\n",
    "c=float(input(\"Digite su edad sumando el año en el que estamos: \\n\"))\n",
    "d=float(input(\"digite un numero re random: \\n\"))\n",
    "e=float(input(\"Preguntele a su amigo un numero mayor a 500 y escribalo: \\n\"))\n",
    "\n",
    "promedio : float = (a+b+c+d+e)/5\n",
    "print(\"El promedio de los numeros es: \", promedio)\n",
    "\n",
    "if a > b:\n",
    "    a, b = b, a\n",
    "if a > c:\n",
    "    a, c = c, a\n",
    "if a > d:\n",
    "    a, d = d, a\n",
    "if a > e:\n",
    "    a, e = e, a\n",
    "if b > c:\n",
    "    b, c = c, b\n",
    "if b > d:\n",
    "    b, d = d, b\n",
    "if b > e:\n",
    "    b, e = e, b\n",
    "if c > d:\n",
    "    c, d = d, c\n",
    "if c > e:\n",
    "    c, e = e, c\n",
    "if d > e:\n",
    "    d, e = e, d\n",
    "\n",
    "print(\"La mediana del conjunto es \", c)\n",
    "\n",
    "\n",
    "promediomultiplicativo = a*b*c*d*e**(1/5)\n",
    "print(\"El promedio multiplicativo es \", promediomultiplicativo)\n",
    "\n",
    "potencia: float = e**a\n",
    "print(\"potencia del mayor número elevando el menor número es: \",potencia)\n",
    "\n",
    "print(\"La lista en orden ascendente es: \",a,b,c,d,e)\n",
    "print(\"La lista en orden descendente es: \",e,d,c,b,a)\n",
    "\n",
    "raiz = a**(1/3)\n",
    "print(\"La raiz cubica del menor es: \", raiz)"
   ]
  },
  {
   "cell_type": "markdown",
   "metadata": {},
   "source": [
    "9. Escriba un programa que reciba el nombre en minúsculas de un país de America y retorne la ciudad capital, si el país no pertenece al continente debe arrojar país no identificado."
   ]
  },
  {
   "cell_type": "code",
   "execution_count": 16,
   "metadata": {},
   "outputs": [
    {
     "name": "stdout",
     "output_type": "stream",
     "text": [
      "la paz\n"
     ]
    }
   ],
   "source": [
    "def un_pais_america(pais):\n",
    "    return pais.lower() in [\"argentina\",\"bolivia\",\"brasil\",\"chile\",\"colombia\",\"costa rica\",\"cuba\",\"ecuador\",\"el salvador\",\"guatemala\",\"haiti\",\"honduras\",\"mexico\",\"nicaragua\",\"panama\",\"paraguay\",\"peru\",\"republica dominicana\",\"uruguay\",\"venezuela\",\"guayana francesa\",\"puerto rico\"]\n",
    "pais = input('Ingresa una un pais de america latina : ')\n",
    "if pais == \"argentina\":\n",
    " print(\"buenos aires\")\n",
    "elif pais == \"bolivia\" : \n",
    " print(\"la paz\")\n",
    "elif pais == \"brasil\":\n",
    "   print(\"brasilia\")\n",
    "elif pais == \"chile\" :\n",
    " print(\"santiago de chile\")\n",
    "elif pais== \"colombia\":\n",
    "   print(\"bogota\")\n",
    "elif pais==\"costa rica\":\n",
    "   print(\"san jose\")\n",
    "elif pais==\"cuba\":\n",
    "   print(\"la habana\")\n",
    "elif pais == \"ecuador\":\n",
    "   print(\"quito\")\n",
    "elif pais==\"el salvador\":\n",
    "   print(\"san salvador\")\n",
    "elif pais==\"guatemala\":\n",
    " print(\"ciudad de guatemala\")\n",
    "elif pais== \"haiti\":\n",
    "   print(\"puerto principe\")\n",
    "elif pais==\"honduras\":\n",
    " print(\"Tegucigalpa\")\n",
    "elif pais== \"mexico\":\n",
    "  print(\"ciudad de mexico\")\n",
    "elif pais==\"nicaruaga\":\n",
    "  print(\"managua\")\n",
    "elif pais==\"panama\":\n",
    "   print(\"panama\")\n",
    "elif pais==\"paraguay\":\n",
    "  print(\"asuncion\")\n",
    "elif pais==\"peru\":\n",
    "  print(\"lima\")\n",
    "elif pais==\"republica dominicana\":\n",
    "  print(\"santo Domingo\")\n",
    "elif pais==\"uruguay\":\n",
    "  print(\"montevideo\")\n",
    "elif pais==\"venezuela\":\n",
    "  print(\"caracas\")\n",
    "elif pais==\"guyana francesa\":\n",
    "  print(\"cayena\")\n",
    "elif pais==\"puerto rico\":\n",
    " print(\"san juan\")\n",
    "else :\n",
    "  print(\"pais no identificado \")"
   ]
  }
 ],
 "metadata": {
  "kernelspec": {
   "display_name": "Python 3",
   "language": "python",
   "name": "python3"
  },
  "language_info": {
   "codemirror_mode": {
    "name": "ipython",
    "version": 3
   },
   "file_extension": ".py",
   "mimetype": "text/x-python",
   "name": "python",
   "nbconvert_exporter": "python",
   "pygments_lexer": "ipython3",
   "version": "3.12.2"
  }
 },
 "nbformat": 4,
 "nbformat_minor": 2
}
